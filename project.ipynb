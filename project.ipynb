{
 "cells": [
  {
   "cell_type": "markdown",
   "id": "ebd00213-fa89-495b-a814-c1fdd09dea81",
   "metadata": {},
   "source": [
    "# Early Stage Diabetes Risk Prediction"
   ]
  },
  {
   "cell_type": "markdown",
   "id": "ae3a8349-2e81-4a61-827c-d4e4123292fb",
   "metadata": {},
   "source": [
    "add introduction here!!!"
   ]
  },
  {
   "cell_type": "markdown",
   "id": "28013deb-f8b2-4d22-a915-26283fb3e5a0",
   "metadata": {},
   "source": [
    "## Problem Statement\n",
    "\n",
    "\n",
    "From dataset, trying to predict whether a patient has diabetes or not."
   ]
  },
  {
   "cell_type": "markdown",
   "id": "ec649f58-8642-4f03-bfee-4fc16087f6a1",
   "metadata": {},
   "source": [
    "## The Dataset\n",
    "https://www.kaggle.com/datasets/iammustafatz/diabetes-prediction-dataset"
   ]
  },
  {
   "cell_type": "code",
   "execution_count": 2,
   "id": "b3411a4d-3fa3-4ba9-8c82-1eab4a4dd18e",
   "metadata": {},
   "outputs": [],
   "source": [
    "import pandas as pd"
   ]
  },
  {
   "cell_type": "code",
   "execution_count": 3,
   "id": "9625534a-42d3-42c3-b276-85ecf3412564",
   "metadata": {},
   "outputs": [
    {
     "data": {
      "text/html": [
       "<div>\n",
       "<style scoped>\n",
       "    .dataframe tbody tr th:only-of-type {\n",
       "        vertical-align: middle;\n",
       "    }\n",
       "\n",
       "    .dataframe tbody tr th {\n",
       "        vertical-align: top;\n",
       "    }\n",
       "\n",
       "    .dataframe thead th {\n",
       "        text-align: right;\n",
       "    }\n",
       "</style>\n",
       "<table border=\"1\" class=\"dataframe\">\n",
       "  <thead>\n",
       "    <tr style=\"text-align: right;\">\n",
       "      <th></th>\n",
       "      <th>gender</th>\n",
       "      <th>age</th>\n",
       "      <th>hypertension</th>\n",
       "      <th>heart_disease</th>\n",
       "      <th>smoking_history</th>\n",
       "      <th>bmi</th>\n",
       "      <th>HbA1c_level</th>\n",
       "      <th>blood_glucose_level</th>\n",
       "      <th>diabetes</th>\n",
       "    </tr>\n",
       "  </thead>\n",
       "  <tbody>\n",
       "    <tr>\n",
       "      <th>0</th>\n",
       "      <td>Female</td>\n",
       "      <td>80.0</td>\n",
       "      <td>0</td>\n",
       "      <td>1</td>\n",
       "      <td>never</td>\n",
       "      <td>25.19</td>\n",
       "      <td>6.6</td>\n",
       "      <td>140</td>\n",
       "      <td>0</td>\n",
       "    </tr>\n",
       "    <tr>\n",
       "      <th>1</th>\n",
       "      <td>Female</td>\n",
       "      <td>54.0</td>\n",
       "      <td>0</td>\n",
       "      <td>0</td>\n",
       "      <td>No Info</td>\n",
       "      <td>27.32</td>\n",
       "      <td>6.6</td>\n",
       "      <td>80</td>\n",
       "      <td>0</td>\n",
       "    </tr>\n",
       "    <tr>\n",
       "      <th>2</th>\n",
       "      <td>Male</td>\n",
       "      <td>28.0</td>\n",
       "      <td>0</td>\n",
       "      <td>0</td>\n",
       "      <td>never</td>\n",
       "      <td>27.32</td>\n",
       "      <td>5.7</td>\n",
       "      <td>158</td>\n",
       "      <td>0</td>\n",
       "    </tr>\n",
       "    <tr>\n",
       "      <th>3</th>\n",
       "      <td>Female</td>\n",
       "      <td>36.0</td>\n",
       "      <td>0</td>\n",
       "      <td>0</td>\n",
       "      <td>current</td>\n",
       "      <td>23.45</td>\n",
       "      <td>5.0</td>\n",
       "      <td>155</td>\n",
       "      <td>0</td>\n",
       "    </tr>\n",
       "    <tr>\n",
       "      <th>4</th>\n",
       "      <td>Male</td>\n",
       "      <td>76.0</td>\n",
       "      <td>1</td>\n",
       "      <td>1</td>\n",
       "      <td>current</td>\n",
       "      <td>20.14</td>\n",
       "      <td>4.8</td>\n",
       "      <td>155</td>\n",
       "      <td>0</td>\n",
       "    </tr>\n",
       "  </tbody>\n",
       "</table>\n",
       "</div>"
      ],
      "text/plain": [
       "   gender   age  hypertension  heart_disease smoking_history    bmi  \\\n",
       "0  Female  80.0             0              1           never  25.19   \n",
       "1  Female  54.0             0              0         No Info  27.32   \n",
       "2    Male  28.0             0              0           never  27.32   \n",
       "3  Female  36.0             0              0         current  23.45   \n",
       "4    Male  76.0             1              1         current  20.14   \n",
       "\n",
       "   HbA1c_level  blood_glucose_level  diabetes  \n",
       "0          6.6                  140         0  \n",
       "1          6.6                   80         0  \n",
       "2          5.7                  158         0  \n",
       "3          5.0                  155         0  \n",
       "4          4.8                  155         0  "
      ]
     },
     "execution_count": 3,
     "metadata": {},
     "output_type": "execute_result"
    }
   ],
   "source": [
    "df = pd.read_csv(\"diabetes_prediction_dataset.csv\")\n",
    "df.head()"
   ]
  },
  {
   "cell_type": "code",
   "execution_count": 4,
   "id": "d2d6f04a-e399-4629-82eb-f6c000163cb3",
   "metadata": {},
   "outputs": [
    {
     "name": "stdout",
     "output_type": "stream",
     "text": [
      "<class 'pandas.core.frame.DataFrame'>\n",
      "RangeIndex: 100000 entries, 0 to 99999\n",
      "Data columns (total 9 columns):\n",
      " #   Column               Non-Null Count   Dtype  \n",
      "---  ------               --------------   -----  \n",
      " 0   gender               100000 non-null  object \n",
      " 1   age                  100000 non-null  float64\n",
      " 2   hypertension         100000 non-null  int64  \n",
      " 3   heart_disease        100000 non-null  int64  \n",
      " 4   smoking_history      100000 non-null  object \n",
      " 5   bmi                  100000 non-null  float64\n",
      " 6   HbA1c_level          100000 non-null  float64\n",
      " 7   blood_glucose_level  100000 non-null  int64  \n",
      " 8   diabetes             100000 non-null  int64  \n",
      "dtypes: float64(3), int64(4), object(2)\n",
      "memory usage: 6.9+ MB\n"
     ]
    }
   ],
   "source": [
    "df.info()"
   ]
  },
  {
   "cell_type": "markdown",
   "id": "bc08a8e1-7443-44f9-92f2-1dffc12569a1",
   "metadata": {},
   "source": [
    "There are 100,000 entries in this dataset. On first appearances, there are no null values."
   ]
  },
  {
   "cell_type": "markdown",
   "id": "b670d81e-1968-4d43-a560-61e2a9fab354",
   "metadata": {},
   "source": [
    "## Data pre-processing"
   ]
  },
  {
   "cell_type": "markdown",
   "id": "b59b0825-6af4-4ecd-8b47-71de5643a2e9",
   "metadata": {},
   "source": [
    "Most of the features are numerical. Only gender and smoking_history need to be handled accordingly."
   ]
  },
  {
   "cell_type": "code",
   "execution_count": 5,
   "id": "b6a233cd-2792-4025-a6e3-e218bce7c091",
   "metadata": {},
   "outputs": [
    {
     "data": {
      "text/plain": [
       "array(['Female', 'Male', 'Other'], dtype=object)"
      ]
     },
     "execution_count": 5,
     "metadata": {},
     "output_type": "execute_result"
    }
   ],
   "source": [
    "df[\"gender\"].unique()"
   ]
  },
  {
   "cell_type": "markdown",
   "id": "f9819a60-b4a3-4c98-a5ed-b480935fceb3",
   "metadata": {},
   "source": [
    "Since there are 3 values for gender, I will use one-hot encoding to turn the data numerical. "
   ]
  },
  {
   "cell_type": "code",
   "execution_count": 6,
   "id": "567d1203-c2de-41c7-863b-9e56942e450a",
   "metadata": {},
   "outputs": [],
   "source": [
    "df = df.join(pd.get_dummies(df.gender, prefix=\"gender\", dtype=int))"
   ]
  },
  {
   "cell_type": "code",
   "execution_count": 7,
   "id": "9b22489c-e3d9-4340-9db5-b950257010e5",
   "metadata": {},
   "outputs": [
    {
     "data": {
      "text/plain": [
       "smoking_history\n",
       "No Info        35816\n",
       "never          35095\n",
       "former          9352\n",
       "current         9286\n",
       "not current     6447\n",
       "ever            4004\n",
       "Name: count, dtype: int64"
      ]
     },
     "execution_count": 7,
     "metadata": {},
     "output_type": "execute_result"
    }
   ],
   "source": [
    "df[\"smoking_history\"].value_counts()"
   ]
  },
  {
   "cell_type": "markdown",
   "id": "025095c6-ec72-46e5-b663-a91ed0db533c",
   "metadata": {},
   "source": [
    "Around 36% of entries are missing smoking_history info. This would be quite a lot of data to drop, so I will not drop them.\n",
    "\n",
    "Instead, I will use Mode Category Imputation based on gender and age."
   ]
  },
  {
   "cell_type": "code",
   "execution_count": 8,
   "id": "6ef35c7d-2f3d-4d80-887e-3bd1555a95d7",
   "metadata": {},
   "outputs": [],
   "source": [
    "smoking_history_df = df[df.smoking_history != \"No Info\"]\n"
   ]
  },
  {
   "cell_type": "code",
   "execution_count": null,
   "id": "bafae51a-1269-4da4-b788-52157268a5d4",
   "metadata": {},
   "outputs": [],
   "source": []
  },
  {
   "cell_type": "code",
   "execution_count": null,
   "id": "3547f8af-3046-4210-875d-1a4a6a5a4b39",
   "metadata": {},
   "outputs": [],
   "source": []
  }
 ],
 "metadata": {
  "kernelspec": {
   "display_name": "Python 3 (ipykernel)",
   "language": "python",
   "name": "python3"
  },
  "language_info": {
   "codemirror_mode": {
    "name": "ipython",
    "version": 3
   },
   "file_extension": ".py",
   "mimetype": "text/x-python",
   "name": "python",
   "nbconvert_exporter": "python",
   "pygments_lexer": "ipython3",
   "version": "3.12.4"
  }
 },
 "nbformat": 4,
 "nbformat_minor": 5
}
