{
 "cells": [
  {
   "cell_type": "markdown",
   "id": "ebd00213-fa89-495b-a814-c1fdd09dea81",
   "metadata": {},
   "source": [
    "# Early Stage Diabetes Risk Prediction"
   ]
  },
  {
   "cell_type": "markdown",
   "id": "ae3a8349-2e81-4a61-827c-d4e4123292fb",
   "metadata": {},
   "source": [
    "add introduction here!!!"
   ]
  },
  {
   "cell_type": "markdown",
   "id": "28013deb-f8b2-4d22-a915-26283fb3e5a0",
   "metadata": {},
   "source": [
    "## Problem Statement\n",
    "\n",
    "https://www.kaggle.com/datasets/iammustafatz/diabetes-prediction-dataset\n",
    "\n",
    "From dataset, trying to predict whether a patient has diabetes or not."
   ]
  }
 ],
 "metadata": {
  "kernelspec": {
   "display_name": "Python 3 (ipykernel)",
   "language": "python",
   "name": "python3"
  },
  "language_info": {
   "codemirror_mode": {
    "name": "ipython",
    "version": 3
   },
   "file_extension": ".py",
   "mimetype": "text/x-python",
   "name": "python",
   "nbconvert_exporter": "python",
   "pygments_lexer": "ipython3",
   "version": "3.12.4"
  }
 },
 "nbformat": 4,
 "nbformat_minor": 5
}
