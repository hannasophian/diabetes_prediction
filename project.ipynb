{
 "cells": [
  {
   "cell_type": "markdown",
   "id": "ebd00213-fa89-495b-a814-c1fdd09dea81",
   "metadata": {},
   "source": [
    "# Early Stage Diabetes Risk Prediction"
   ]
  },
  {
   "cell_type": "markdown",
   "id": "ae3a8349-2e81-4a61-827c-d4e4123292fb",
   "metadata": {},
   "source": [
    "add introduction here!!!"
   ]
  },
  {
   "cell_type": "markdown",
   "id": "28013deb-f8b2-4d22-a915-26283fb3e5a0",
   "metadata": {},
   "source": [
    "## Problem Statement\n",
    "\n",
    "\n",
    "From dataset, trying to predict whether a patient has diabetes or not."
   ]
  },
  {
   "cell_type": "markdown",
   "id": "ec649f58-8642-4f03-bfee-4fc16087f6a1",
   "metadata": {},
   "source": [
    "## The Dataset\n",
    "\n",
    "The dataset contains medical data of patients along with their diabetes status.\n",
    "- `age`: age of the patient\n",
    "- `gender`: gender of the patient\n",
    "- `bmi`: body mass index of the patient\n",
    "- `hypertension`: hypertension status of the patient (chronic condition where the blood pressure is too high)\n",
    "- `heart_disease`: heart disease status of the patient\n",
    "- `smoking_history`: smoking history of the patient (never, No Info, current, former, not current, ever)\n",
    "- `HbA1c_level` - result of glucose level blood test which measures blood sugar level over the past 2-3 months.\n",
    "- `blood_glucose_level` - blood glucose level of the patient\n",
    "\n",
    "Note: If I were to re-do this project, I would get the data from a more established source, as the origins of this dataset are unclear.\n",
    "\n",
    "https://www.kaggle.com/datasets/iammustafatz/diabetes-prediction-dataset"
   ]
  },
  {
   "cell_type": "code",
   "execution_count": 1,
   "id": "b3411a4d-3fa3-4ba9-8c82-1eab4a4dd18e",
   "metadata": {},
   "outputs": [],
   "source": [
    "import pandas as pd\n",
    "import numpy as np\n",
    "import matplotlib.pyplot as plt\n",
    "import seaborn as sns\n",
    "from sklearn.preprocessing import MinMaxScaler\n",
    "from sklearn.model_selection import train_test_split"
   ]
  },
  {
   "cell_type": "code",
   "execution_count": 2,
   "id": "9625534a-42d3-42c3-b276-85ecf3412564",
   "metadata": {},
   "outputs": [
    {
     "data": {
      "text/html": [
       "<div>\n",
       "<style scoped>\n",
       "    .dataframe tbody tr th:only-of-type {\n",
       "        vertical-align: middle;\n",
       "    }\n",
       "\n",
       "    .dataframe tbody tr th {\n",
       "        vertical-align: top;\n",
       "    }\n",
       "\n",
       "    .dataframe thead th {\n",
       "        text-align: right;\n",
       "    }\n",
       "</style>\n",
       "<table border=\"1\" class=\"dataframe\">\n",
       "  <thead>\n",
       "    <tr style=\"text-align: right;\">\n",
       "      <th></th>\n",
       "      <th>gender</th>\n",
       "      <th>age</th>\n",
       "      <th>hypertension</th>\n",
       "      <th>heart_disease</th>\n",
       "      <th>smoking_history</th>\n",
       "      <th>bmi</th>\n",
       "      <th>HbA1c_level</th>\n",
       "      <th>blood_glucose_level</th>\n",
       "      <th>diabetes</th>\n",
       "    </tr>\n",
       "  </thead>\n",
       "  <tbody>\n",
       "    <tr>\n",
       "      <th>0</th>\n",
       "      <td>Female</td>\n",
       "      <td>80.0</td>\n",
       "      <td>0</td>\n",
       "      <td>1</td>\n",
       "      <td>never</td>\n",
       "      <td>25.19</td>\n",
       "      <td>6.6</td>\n",
       "      <td>140</td>\n",
       "      <td>0</td>\n",
       "    </tr>\n",
       "    <tr>\n",
       "      <th>1</th>\n",
       "      <td>Female</td>\n",
       "      <td>54.0</td>\n",
       "      <td>0</td>\n",
       "      <td>0</td>\n",
       "      <td>No Info</td>\n",
       "      <td>27.32</td>\n",
       "      <td>6.6</td>\n",
       "      <td>80</td>\n",
       "      <td>0</td>\n",
       "    </tr>\n",
       "    <tr>\n",
       "      <th>2</th>\n",
       "      <td>Male</td>\n",
       "      <td>28.0</td>\n",
       "      <td>0</td>\n",
       "      <td>0</td>\n",
       "      <td>never</td>\n",
       "      <td>27.32</td>\n",
       "      <td>5.7</td>\n",
       "      <td>158</td>\n",
       "      <td>0</td>\n",
       "    </tr>\n",
       "    <tr>\n",
       "      <th>3</th>\n",
       "      <td>Female</td>\n",
       "      <td>36.0</td>\n",
       "      <td>0</td>\n",
       "      <td>0</td>\n",
       "      <td>current</td>\n",
       "      <td>23.45</td>\n",
       "      <td>5.0</td>\n",
       "      <td>155</td>\n",
       "      <td>0</td>\n",
       "    </tr>\n",
       "    <tr>\n",
       "      <th>4</th>\n",
       "      <td>Male</td>\n",
       "      <td>76.0</td>\n",
       "      <td>1</td>\n",
       "      <td>1</td>\n",
       "      <td>current</td>\n",
       "      <td>20.14</td>\n",
       "      <td>4.8</td>\n",
       "      <td>155</td>\n",
       "      <td>0</td>\n",
       "    </tr>\n",
       "  </tbody>\n",
       "</table>\n",
       "</div>"
      ],
      "text/plain": [
       "   gender   age  hypertension  heart_disease smoking_history    bmi  \\\n",
       "0  Female  80.0             0              1           never  25.19   \n",
       "1  Female  54.0             0              0         No Info  27.32   \n",
       "2    Male  28.0             0              0           never  27.32   \n",
       "3  Female  36.0             0              0         current  23.45   \n",
       "4    Male  76.0             1              1         current  20.14   \n",
       "\n",
       "   HbA1c_level  blood_glucose_level  diabetes  \n",
       "0          6.6                  140         0  \n",
       "1          6.6                   80         0  \n",
       "2          5.7                  158         0  \n",
       "3          5.0                  155         0  \n",
       "4          4.8                  155         0  "
      ]
     },
     "execution_count": 2,
     "metadata": {},
     "output_type": "execute_result"
    }
   ],
   "source": [
    "df = pd.read_csv(\"diabetes_prediction_dataset.csv\")\n",
    "df.head()"
   ]
  },
  {
   "cell_type": "code",
   "execution_count": 3,
   "id": "d2d6f04a-e399-4629-82eb-f6c000163cb3",
   "metadata": {},
   "outputs": [
    {
     "name": "stdout",
     "output_type": "stream",
     "text": [
      "<class 'pandas.core.frame.DataFrame'>\n",
      "RangeIndex: 100000 entries, 0 to 99999\n",
      "Data columns (total 9 columns):\n",
      " #   Column               Non-Null Count   Dtype  \n",
      "---  ------               --------------   -----  \n",
      " 0   gender               100000 non-null  object \n",
      " 1   age                  100000 non-null  float64\n",
      " 2   hypertension         100000 non-null  int64  \n",
      " 3   heart_disease        100000 non-null  int64  \n",
      " 4   smoking_history      100000 non-null  object \n",
      " 5   bmi                  100000 non-null  float64\n",
      " 6   HbA1c_level          100000 non-null  float64\n",
      " 7   blood_glucose_level  100000 non-null  int64  \n",
      " 8   diabetes             100000 non-null  int64  \n",
      "dtypes: float64(3), int64(4), object(2)\n",
      "memory usage: 6.9+ MB\n"
     ]
    }
   ],
   "source": [
    "df.info()"
   ]
  },
  {
   "cell_type": "markdown",
   "id": "bc08a8e1-7443-44f9-92f2-1dffc12569a1",
   "metadata": {},
   "source": [
    "There are 100,000 entries in this dataset. On first appearances, there are no null values."
   ]
  },
  {
   "cell_type": "markdown",
   "id": "b670d81e-1968-4d43-a560-61e2a9fab354",
   "metadata": {},
   "source": [
    "## Data pre-processing"
   ]
  },
  {
   "cell_type": "markdown",
   "id": "b59b0825-6af4-4ecd-8b47-71de5643a2e9",
   "metadata": {},
   "source": [
    "Most of the features are numerical. Only gender and smoking_history are categorical and will later need to be turned numerical.\n",
    "\n",
    "Hypertension, heart_disease and diabetes are all binary features."
   ]
  },
  {
   "cell_type": "code",
   "execution_count": 4,
   "id": "9b22489c-e3d9-4340-9db5-b950257010e5",
   "metadata": {},
   "outputs": [
    {
     "data": {
      "text/plain": [
       "smoking_history\n",
       "No Info        35816\n",
       "never          35095\n",
       "former          9352\n",
       "current         9286\n",
       "not current     6447\n",
       "ever            4004\n",
       "Name: count, dtype: int64"
      ]
     },
     "execution_count": 4,
     "metadata": {},
     "output_type": "execute_result"
    }
   ],
   "source": [
    "df[\"smoking_history\"].value_counts()"
   ]
  },
  {
   "cell_type": "markdown",
   "id": "025095c6-ec72-46e5-b663-a91ed0db533c",
   "metadata": {},
   "source": [
    "Around 36% of entries are missing smoking_history info. This would be quite a lot of data to drop, so I will not drop them.\n",
    "\n",
    "Instead, I will use Mode Category Imputation based on gender and age."
   ]
  },
  {
   "cell_type": "code",
   "execution_count": 5,
   "id": "6ef35c7d-2f3d-4d80-887e-3bd1555a95d7",
   "metadata": {},
   "outputs": [
    {
     "name": "stderr",
     "output_type": "stream",
     "text": [
      "/var/folders/nl/l_thjhtd7s13pv8s4s13w7nh0000gn/T/ipykernel_43688/969091834.py:11: FutureWarning: The default of observed=False is deprecated and will be changed to True in a future version of pandas. Pass observed=False to retain current behavior or observed=True to adopt the future default and silence this warning.\n",
      "  df['smoking_history_of_age_group'] = df.groupby('age_group')['smoking_history'].transform(lambda x: get_mode_smoking_history_from_group(x))\n"
     ]
    },
    {
     "data": {
      "text/plain": [
       "smoking_history\n",
       "never          68123\n",
       "former          9352\n",
       "current         9286\n",
       "not current     6447\n",
       "ever            4004\n",
       "Name: count, dtype: int64"
      ]
     },
     "execution_count": 5,
     "metadata": {},
     "output_type": "execute_result"
    }
   ],
   "source": [
    "# This function takes all entries within an age range as a parameter\n",
    "# It returns the most common value for 'smoking_history' that is not 'No Info'\n",
    "def get_mode_smoking_history_from_group(group):\n",
    "    value_counts = group.value_counts()    \n",
    "    most_common = value_counts.index[0] if value_counts.index[0] != \"No Info\" else value_counts.index[1]    \n",
    "    return most_common\n",
    "\n",
    "# Group all entries into age_group bins of width 5 (years). \n",
    "# Replace all smoking_history values of 'No Info' with the most common value in the respective age group.\n",
    "df['age_group'] = pd.cut(df['age'], bins=np.arange(0, df[\"age\"].max(), 5), right=False)\n",
    "df['smoking_history_of_age_group'] = df.groupby('age_group')['smoking_history'].transform(lambda x: get_mode_smoking_history_from_group(x))\n",
    "df.loc[df['smoking_history'] == 'No Info', 'smoking_history'] = df['smoking_history_of_age_group']\n",
    "\n",
    "# Check that there are no more counts for 'No Info'\n",
    "df[\"smoking_history\"].value_counts()"
   ]
  },
  {
   "cell_type": "code",
   "execution_count": 6,
   "id": "1bd6c8c4-acbf-43c4-852a-b6eea7217fbe",
   "metadata": {},
   "outputs": [
    {
     "data": {
      "text/plain": [
       "gender\n",
       "Female    58552\n",
       "Male      41430\n",
       "Other        18\n",
       "Name: count, dtype: int64"
      ]
     },
     "execution_count": 6,
     "metadata": {},
     "output_type": "execute_result"
    }
   ],
   "source": [
    "df[\"gender\"].value_counts()"
   ]
  },
  {
   "cell_type": "markdown",
   "id": "08fce280-21fc-4449-aa68-30557c9769e9",
   "metadata": {},
   "source": [
    "Out of 100,000 entries, there are only 18 entries with the gender 'Other'. 18 data points is not enough to make assumptions on the greater population, so I will drop these entries."
   ]
  },
  {
   "cell_type": "code",
   "execution_count": 7,
   "id": "64c48eb6-5e50-4f8e-a187-85cfe45d45f1",
   "metadata": {},
   "outputs": [
    {
     "data": {
      "text/plain": [
       "count      99982\n",
       "unique         2\n",
       "top       Female\n",
       "freq       58552\n",
       "Name: gender, dtype: object"
      ]
     },
     "execution_count": 7,
     "metadata": {},
     "output_type": "execute_result"
    }
   ],
   "source": [
    "df = df[df['gender'] != 'Other']\n",
    "df['gender'].describe()"
   ]
  },
  {
   "cell_type": "markdown",
   "id": "a3f6f697-7592-44f1-ae88-833b025f68af",
   "metadata": {},
   "source": [
    "## Exploratory Analysis"
   ]
  },
  {
   "cell_type": "markdown",
   "id": "7a5b4ec2-7941-43ef-bb33-ca9726ed605e",
   "metadata": {},
   "source": [
    "I want to first look at the categorical features (gender and smoking_history) to see if there is correlation between them and being positive for diabetes."
   ]
  },
  {
   "cell_type": "code",
   "execution_count": 8,
   "id": "a1a0e99d-c87d-44dd-9a76-11ff2fc991ca",
   "metadata": {},
   "outputs": [
    {
     "data": {
      "text/plain": [
       "Text(0.5, 1.0, 'Graph showing diabetes rate by gender')"
      ]
     },
     "execution_count": 8,
     "metadata": {},
     "output_type": "execute_result"
    },
    {
     "data": {
      "image/png": "[encoded data removed]",
      "text/plain": [
       "<Figure size 511.111x500 with 1 Axes>"
      ]
     },
     "metadata": {},
     "output_type": "display_data"
    }
   ],
   "source": [
    "sns.catplot(\n",
    "    data=df, x=\"gender\", y=\"diabetes\",\n",
    "    kind=\"bar\"\n",
    ")\n",
    "plt.title(\"Graph showing diabetes rate by gender\")"
   ]
  },
  {
   "cell_type": "markdown",
   "id": "7b97675d-6e77-4975-8e23-6aaa59c91541",
   "metadata": {},
   "source": [
    "From the graph, it seems that males have higher rates of diabetes. It also shows that in our dataset, there are no people recorded as having an 'other' gender who have diabetes."
   ]
  },
  {
   "cell_type": "code",
   "execution_count": 9,
   "id": "63c38f2d-ded6-4271-b437-0bf18be0b5f4",
   "metadata": {},
   "outputs": [
    {
     "data": {
      "text/plain": [
       "Text(0.5, 1.0, 'Graph showing diabetes rate by smoking history')"
      ]
     },
     "execution_count": 9,
     "metadata": {},
     "output_type": "execute_result"
    },
    {
     "data": {
      "image/png": "[encoded data removed]",
      "text/plain": [
       "<Figure size 511.111x500 with 1 Axes>"
      ]
     },
     "metadata": {},
     "output_type": "display_data"
    }
   ],
   "source": [
    "sns.catplot(\n",
    "    data=df, x=\"smoking_history\", y=\"diabetes\",\n",
    "    kind=\"bar\"\n",
    ")\n",
    "plt.title(\"Graph showing diabetes rate by smoking history\")"
   ]
  },
  {
   "cell_type": "markdown",
   "id": "730a6bdf-7c87-4531-8ba1-55d95e3f16c4",
   "metadata": {},
   "source": [
    "This graph seems to show that there is a correlation between smoking history and rates of diabetes. Those who have never smoked have lowest rates of diabetes where was those who were former smokers have highest rates of diabetes."
   ]
  },
  {
   "cell_type": "markdown",
   "id": "ff24be19-6dfa-434b-adab-3ebe73fd6e83",
   "metadata": {},
   "source": [
    "Next, I'm going to look at the numerical features and see their correlations with diabetes rates."
   ]
  },
  {
   "cell_type": "code",
   "execution_count": 10,
   "id": "27f1e474-ac02-465f-b50d-e8bda7f89fb1",
   "metadata": {},
   "outputs": [
    {
     "data": {
      "text/plain": [
       "<Axes: >"
      ]
     },
     "execution_count": 10,
     "metadata": {},
     "output_type": "execute_result"
    },
    {
     "data": {
      "image/png": "[encoded data removed]",
      "text/plain": [
       "<Figure size 640x480 with 2 Axes>"
      ]
     },
     "metadata": {},
     "output_type": "display_data"
    }
   ],
   "source": [
    "# Create a correlation matrix between all features\n",
    "correlation = df.corr(numeric_only=True)\n",
    "sns.heatmap(correlation, annot=True)"
   ]
  },
  {
   "cell_type": "markdown",
   "id": "ff6e5230-b3da-4073-9e42-840b9c3b703e",
   "metadata": {},
   "source": [
    "It seems that there are positive correlations between diabetes and all the other numerical features. The strongest correlations are with blood_glucose_level and HbA1c_level. "
   ]
  },
  {
   "cell_type": "markdown",
   "id": "4a945778-a1a5-4335-9ef8-1946c2b99c7d",
   "metadata": {},
   "source": [
    "There are no correlations between the other features that are high enough to make me suspect multicollinearity."
   ]
  },
  {
   "cell_type": "markdown",
   "id": "5d4b33d3-a5d7-4d71-a05e-7000e9dad2e4",
   "metadata": {},
   "source": [
    "I could visualise these correlations using box plots (as I do for blood_glucose_level below), but the correlation heatmap is enough for me to determine that I will include all of the numerical features in the prediction model."
   ]
  },
  {
   "cell_type": "code",
   "execution_count": 11,
   "id": "183698c8-ea02-4468-b3c9-cd7e029b2c11",
   "metadata": {},
   "outputs": [
    {
     "data": {
      "text/plain": [
       "Text(0.5, 1.0, 'Box plots showing the distribution of Blood Glucose Levels for people wiht and without diabetes')"
      ]
     },
     "execution_count": 11,
     "metadata": {},
     "output_type": "execute_result"
    },
    {
     "data": {
      "image/png": "[encoded data removed]",
      "text/plain": [
       "<Figure size 511.111x500 with 1 Axes>"
      ]
     },
     "metadata": {},
     "output_type": "display_data"
    }
   ],
   "source": [
    "df['diabetes'] = df['diabetes'].astype('category')\n",
    "sns.catplot(data=df, x=\"blood_glucose_level\", y=\"diabetes\", kind=\"box\")\n",
    "plt.title(\"Box plots showing the distribution of Blood Glucose Levels for people wiht and without diabetes\")"
   ]
  },
  {
   "cell_type": "markdown",
   "id": "798b72e1-dcdf-4981-9c26-174fc6503254",
   "metadata": {},
   "source": [
    "## Categorical Feature Encoding"
   ]
  },
  {
   "cell_type": "markdown",
   "id": "f9819a60-b4a3-4c98-a5ed-b480935fceb3",
   "metadata": {},
   "source": [
    "Since there are now 2 values for gender, I will turn the feature into a binary feature."
   ]
  },
  {
   "cell_type": "code",
   "execution_count": 12,
   "id": "567d1203-c2de-41c7-863b-9e56942e450a",
   "metadata": {},
   "outputs": [],
   "source": [
    "df['gender'] = df['gender'].map({'Female': 0, 'Male': 1})"
   ]
  },
  {
   "cell_type": "markdown",
   "id": "7e704863-4755-495d-9d53-f2bb7d014e6d",
   "metadata": {},
   "source": [
    "I will also one-hot encode the smoking_history column."
   ]
  },
  {
   "cell_type": "code",
   "execution_count": 13,
   "id": "86bed969-a7bc-4047-8b87-4b076212a921",
   "metadata": {},
   "outputs": [
    {
     "data": {
      "text/html": [
       "<div>\n",
       "<style scoped>\n",
       "    .dataframe tbody tr th:only-of-type {\n",
       "        vertical-align: middle;\n",
       "    }\n",
       "\n",
       "    .dataframe tbody tr th {\n",
       "        vertical-align: top;\n",
       "    }\n",
       "\n",
       "    .dataframe thead th {\n",
       "        text-align: right;\n",
       "    }\n",
       "</style>\n",
       "<table border=\"1\" class=\"dataframe\">\n",
       "  <thead>\n",
       "    <tr style=\"text-align: right;\">\n",
       "      <th></th>\n",
       "      <th>gender</th>\n",
       "      <th>age</th>\n",
       "      <th>hypertension</th>\n",
       "      <th>heart_disease</th>\n",
       "      <th>smoking_history</th>\n",
       "      <th>bmi</th>\n",
       "      <th>HbA1c_level</th>\n",
       "      <th>blood_glucose_level</th>\n",
       "      <th>diabetes</th>\n",
       "      <th>age_group</th>\n",
       "      <th>smoking_history_of_age_group</th>\n",
       "      <th>smoking_history_current</th>\n",
       "      <th>smoking_history_ever</th>\n",
       "      <th>smoking_history_former</th>\n",
       "      <th>smoking_history_never</th>\n",
       "      <th>smoking_history_not current</th>\n",
       "    </tr>\n",
       "  </thead>\n",
       "  <tbody>\n",
       "    <tr>\n",
       "      <th>0</th>\n",
       "      <td>0</td>\n",
       "      <td>80.0</td>\n",
       "      <td>0</td>\n",
       "      <td>1</td>\n",
       "      <td>never</td>\n",
       "      <td>25.19</td>\n",
       "      <td>6.6</td>\n",
       "      <td>140</td>\n",
       "      <td>0</td>\n",
       "      <td>NaN</td>\n",
       "      <td>NaN</td>\n",
       "      <td>0</td>\n",
       "      <td>0</td>\n",
       "      <td>0</td>\n",
       "      <td>1</td>\n",
       "      <td>0</td>\n",
       "    </tr>\n",
       "    <tr>\n",
       "      <th>1</th>\n",
       "      <td>0</td>\n",
       "      <td>54.0</td>\n",
       "      <td>0</td>\n",
       "      <td>0</td>\n",
       "      <td>never</td>\n",
       "      <td>27.32</td>\n",
       "      <td>6.6</td>\n",
       "      <td>80</td>\n",
       "      <td>0</td>\n",
       "      <td>[50.0, 55.0)</td>\n",
       "      <td>never</td>\n",
       "      <td>0</td>\n",
       "      <td>0</td>\n",
       "      <td>0</td>\n",
       "      <td>1</td>\n",
       "      <td>0</td>\n",
       "    </tr>\n",
       "    <tr>\n",
       "      <th>2</th>\n",
       "      <td>1</td>\n",
       "      <td>28.0</td>\n",
       "      <td>0</td>\n",
       "      <td>0</td>\n",
       "      <td>never</td>\n",
       "      <td>27.32</td>\n",
       "      <td>5.7</td>\n",
       "      <td>158</td>\n",
       "      <td>0</td>\n",
       "      <td>[25.0, 30.0)</td>\n",
       "      <td>never</td>\n",
       "      <td>0</td>\n",
       "      <td>0</td>\n",
       "      <td>0</td>\n",
       "      <td>1</td>\n",
       "      <td>0</td>\n",
       "    </tr>\n",
       "    <tr>\n",
       "      <th>3</th>\n",
       "      <td>0</td>\n",
       "      <td>36.0</td>\n",
       "      <td>0</td>\n",
       "      <td>0</td>\n",
       "      <td>current</td>\n",
       "      <td>23.45</td>\n",
       "      <td>5.0</td>\n",
       "      <td>155</td>\n",
       "      <td>0</td>\n",
       "      <td>[35.0, 40.0)</td>\n",
       "      <td>never</td>\n",
       "      <td>1</td>\n",
       "      <td>0</td>\n",
       "      <td>0</td>\n",
       "      <td>0</td>\n",
       "      <td>0</td>\n",
       "    </tr>\n",
       "    <tr>\n",
       "      <th>4</th>\n",
       "      <td>1</td>\n",
       "      <td>76.0</td>\n",
       "      <td>1</td>\n",
       "      <td>1</td>\n",
       "      <td>current</td>\n",
       "      <td>20.14</td>\n",
       "      <td>4.8</td>\n",
       "      <td>155</td>\n",
       "      <td>0</td>\n",
       "      <td>NaN</td>\n",
       "      <td>NaN</td>\n",
       "      <td>1</td>\n",
       "      <td>0</td>\n",
       "      <td>0</td>\n",
       "      <td>0</td>\n",
       "      <td>0</td>\n",
       "    </tr>\n",
       "  </tbody>\n",
       "</table>\n",
       "</div>"
      ],
      "text/plain": [
       "   gender   age  hypertension  heart_disease smoking_history    bmi  \\\n",
       "0       0  80.0             0              1           never  25.19   \n",
       "1       0  54.0             0              0           never  27.32   \n",
       "2       1  28.0             0              0           never  27.32   \n",
       "3       0  36.0             0              0         current  23.45   \n",
       "4       1  76.0             1              1         current  20.14   \n",
       "\n",
       "   HbA1c_level  blood_glucose_level diabetes     age_group  \\\n",
       "0          6.6                  140        0           NaN   \n",
       "1          6.6                   80        0  [50.0, 55.0)   \n",
       "2          5.7                  158        0  [25.0, 30.0)   \n",
       "3          5.0                  155        0  [35.0, 40.0)   \n",
       "4          4.8                  155        0           NaN   \n",
       "\n",
       "  smoking_history_of_age_group  smoking_history_current  smoking_history_ever  \\\n",
       "0                          NaN                        0                     0   \n",
       "1                        never                        0                     0   \n",
       "2                        never                        0                     0   \n",
       "3                        never                        1                     0   \n",
       "4                          NaN                        1                     0   \n",
       "\n",
       "   smoking_history_former  smoking_history_never  smoking_history_not current  \n",
       "0                       0                      1                            0  \n",
       "1                       0                      1                            0  \n",
       "2                       0                      1                            0  \n",
       "3                       0                      0                            0  \n",
       "4                       0                      0                            0  "
      ]
     },
     "execution_count": 13,
     "metadata": {},
     "output_type": "execute_result"
    }
   ],
   "source": [
    "## Encoding Categorical Variables:\n",
    "df = df.join(pd.get_dummies(df.smoking_history, prefix=\"smoking_history\", dtype=int))\n",
    "df.head()"
   ]
  },
  {
   "cell_type": "markdown",
   "id": "202daf53-d430-4495-a998-4797431c3720",
   "metadata": {},
   "source": [
    "## Numerical Variables Normalisation"
   ]
  },
  {
   "cell_type": "code",
   "execution_count": 14,
   "id": "af0d0287-0d4a-48f4-85af-5975721d11f1",
   "metadata": {},
   "outputs": [
    {
     "data": {
      "text/plain": [
       "array([[<Axes: title={'center': 'age'}>, <Axes: title={'center': 'bmi'}>],\n",
       "       [<Axes: title={'center': 'HbA1c_level'}>,\n",
       "        <Axes: title={'center': 'blood_glucose_level'}>]], dtype=object)"
      ]
     },
     "execution_count": 14,
     "metadata": {},
     "output_type": "execute_result"
    },
    {
     "data": {
      "image/png": "[encoded data removed]",
      "text/plain": [
       "<Figure size 1500x800 with 4 Axes>"
      ]
     },
     "metadata": {},
     "output_type": "display_data"
    }
   ],
   "source": [
    "df[['age', 'bmi', 'HbA1c_level', 'blood_glucose_level']].hist(figsize=(15,8))"
   ]
  },
  {
   "cell_type": "markdown",
   "id": "dc2d9d39-3589-4f71-8aca-c8c3bc521de3",
   "metadata": {},
   "source": [
    "I'm going to normalise the non-binary numerical features. This ensures that features are on the same scale to speed up and stabilise convergence (which will be useful in the case of logistic regression later on)"
   ]
  },
  {
   "cell_type": "code",
   "execution_count": 15,
   "id": "3a61d1cf-0f3c-4886-b4ec-e153b5b90e46",
   "metadata": {},
   "outputs": [
    {
     "data": {
      "text/html": [
       "<div>\n",
       "<style scoped>\n",
       "    .dataframe tbody tr th:only-of-type {\n",
       "        vertical-align: middle;\n",
       "    }\n",
       "\n",
       "    .dataframe tbody tr th {\n",
       "        vertical-align: top;\n",
       "    }\n",
       "\n",
       "    .dataframe thead th {\n",
       "        text-align: right;\n",
       "    }\n",
       "</style>\n",
       "<table border=\"1\" class=\"dataframe\">\n",
       "  <thead>\n",
       "    <tr style=\"text-align: right;\">\n",
       "      <th></th>\n",
       "      <th>gender</th>\n",
       "      <th>age</th>\n",
       "      <th>hypertension</th>\n",
       "      <th>heart_disease</th>\n",
       "      <th>smoking_history</th>\n",
       "      <th>bmi</th>\n",
       "      <th>HbA1c_level</th>\n",
       "      <th>blood_glucose_level</th>\n",
       "      <th>diabetes</th>\n",
       "      <th>age_group</th>\n",
       "      <th>smoking_history_of_age_group</th>\n",
       "      <th>smoking_history_current</th>\n",
       "      <th>smoking_history_ever</th>\n",
       "      <th>smoking_history_former</th>\n",
       "      <th>smoking_history_never</th>\n",
       "      <th>smoking_history_not current</th>\n",
       "    </tr>\n",
       "  </thead>\n",
       "  <tbody>\n",
       "    <tr>\n",
       "      <th>0</th>\n",
       "      <td>0</td>\n",
       "      <td>1.000000</td>\n",
       "      <td>0</td>\n",
       "      <td>1</td>\n",
       "      <td>never</td>\n",
       "      <td>0.177171</td>\n",
       "      <td>0.563636</td>\n",
       "      <td>0.272727</td>\n",
       "      <td>0</td>\n",
       "      <td>NaN</td>\n",
       "      <td>NaN</td>\n",
       "      <td>0</td>\n",
       "      <td>0</td>\n",
       "      <td>0</td>\n",
       "      <td>1</td>\n",
       "      <td>0</td>\n",
       "    </tr>\n",
       "    <tr>\n",
       "      <th>1</th>\n",
       "      <td>0</td>\n",
       "      <td>0.674675</td>\n",
       "      <td>0</td>\n",
       "      <td>0</td>\n",
       "      <td>never</td>\n",
       "      <td>0.202031</td>\n",
       "      <td>0.563636</td>\n",
       "      <td>0.000000</td>\n",
       "      <td>0</td>\n",
       "      <td>[50.0, 55.0)</td>\n",
       "      <td>never</td>\n",
       "      <td>0</td>\n",
       "      <td>0</td>\n",
       "      <td>0</td>\n",
       "      <td>1</td>\n",
       "      <td>0</td>\n",
       "    </tr>\n",
       "    <tr>\n",
       "      <th>2</th>\n",
       "      <td>1</td>\n",
       "      <td>0.349349</td>\n",
       "      <td>0</td>\n",
       "      <td>0</td>\n",
       "      <td>never</td>\n",
       "      <td>0.202031</td>\n",
       "      <td>0.400000</td>\n",
       "      <td>0.354545</td>\n",
       "      <td>0</td>\n",
       "      <td>[25.0, 30.0)</td>\n",
       "      <td>never</td>\n",
       "      <td>0</td>\n",
       "      <td>0</td>\n",
       "      <td>0</td>\n",
       "      <td>1</td>\n",
       "      <td>0</td>\n",
       "    </tr>\n",
       "    <tr>\n",
       "      <th>3</th>\n",
       "      <td>0</td>\n",
       "      <td>0.449449</td>\n",
       "      <td>0</td>\n",
       "      <td>0</td>\n",
       "      <td>current</td>\n",
       "      <td>0.156863</td>\n",
       "      <td>0.272727</td>\n",
       "      <td>0.340909</td>\n",
       "      <td>0</td>\n",
       "      <td>[35.0, 40.0)</td>\n",
       "      <td>never</td>\n",
       "      <td>1</td>\n",
       "      <td>0</td>\n",
       "      <td>0</td>\n",
       "      <td>0</td>\n",
       "      <td>0</td>\n",
       "    </tr>\n",
       "    <tr>\n",
       "      <th>4</th>\n",
       "      <td>1</td>\n",
       "      <td>0.949950</td>\n",
       "      <td>1</td>\n",
       "      <td>1</td>\n",
       "      <td>current</td>\n",
       "      <td>0.118231</td>\n",
       "      <td>0.236364</td>\n",
       "      <td>0.340909</td>\n",
       "      <td>0</td>\n",
       "      <td>NaN</td>\n",
       "      <td>NaN</td>\n",
       "      <td>1</td>\n",
       "      <td>0</td>\n",
       "      <td>0</td>\n",
       "      <td>0</td>\n",
       "      <td>0</td>\n",
       "    </tr>\n",
       "  </tbody>\n",
       "</table>\n",
       "</div>"
      ],
      "text/plain": [
       "   gender       age  hypertension  heart_disease smoking_history       bmi  \\\n",
       "0       0  1.000000             0              1           never  0.177171   \n",
       "1       0  0.674675             0              0           never  0.202031   \n",
       "2       1  0.349349             0              0           never  0.202031   \n",
       "3       0  0.449449             0              0         current  0.156863   \n",
       "4       1  0.949950             1              1         current  0.118231   \n",
       "\n",
       "   HbA1c_level  blood_glucose_level diabetes     age_group  \\\n",
       "0     0.563636             0.272727        0           NaN   \n",
       "1     0.563636             0.000000        0  [50.0, 55.0)   \n",
       "2     0.400000             0.354545        0  [25.0, 30.0)   \n",
       "3     0.272727             0.340909        0  [35.0, 40.0)   \n",
       "4     0.236364             0.340909        0           NaN   \n",
       "\n",
       "  smoking_history_of_age_group  smoking_history_current  smoking_history_ever  \\\n",
       "0                          NaN                        0                     0   \n",
       "1                        never                        0                     0   \n",
       "2                        never                        0                     0   \n",
       "3                        never                        1                     0   \n",
       "4                          NaN                        1                     0   \n",
       "\n",
       "   smoking_history_former  smoking_history_never  smoking_history_not current  \n",
       "0                       0                      1                            0  \n",
       "1                       0                      1                            0  \n",
       "2                       0                      1                            0  \n",
       "3                       0                      0                            0  \n",
       "4                       0                      0                            0  "
      ]
     },
     "execution_count": 15,
     "metadata": {},
     "output_type": "execute_result"
    }
   ],
   "source": [
    "# Initialize MinMaxScaler\n",
    "scaler = MinMaxScaler()\n",
    "columns_to_normalise = ['age', 'bmi', 'HbA1c_level', 'blood_glucose_level']\n",
    "# Apply Min-Max normalization to specified columns\n",
    "df[columns_to_normalise] = scaler.fit_transform(df[columns_to_normalise])\n",
    "df.head()"
   ]
  },
  {
   "cell_type": "markdown",
   "id": "7caa7e11-d337-49b9-a215-580d11204e89",
   "metadata": {},
   "source": [
    "## Sampling for a balanced dataset"
   ]
  },
  {
   "cell_type": "code",
   "execution_count": 16,
   "id": "ec3796f2-4b1a-4550-b726-be4f7ea67df4",
   "metadata": {},
   "outputs": [
    {
     "data": {
      "text/plain": [
       "diabetes\n",
       "0    91482\n",
       "1     8500\n",
       "Name: count, dtype: int64"
      ]
     },
     "execution_count": 16,
     "metadata": {},
     "output_type": "execute_result"
    }
   ],
   "source": [
    "df.diabetes.value_counts()"
   ]
  },
  {
   "cell_type": "markdown",
   "id": "098f3dfc-9b3c-4aa1-9e42-117a3832f681",
   "metadata": {},
   "source": [
    "As shown above, the dataset is not balanced. There are a lot more entries for people who do not have diabetes. I would like a more balanced dataset to improve model performance. It will also help with evaluating the model more accurately."
   ]
  },
  {
   "cell_type": "code",
   "execution_count": 17,
   "id": "a421f9be-344b-4c1a-9bf5-9d4d95e9976d",
   "metadata": {},
   "outputs": [
    {
     "data": {
      "text/html": [
       "<div>\n",
       "<style scoped>\n",
       "    .dataframe tbody tr th:only-of-type {\n",
       "        vertical-align: middle;\n",
       "    }\n",
       "\n",
       "    .dataframe tbody tr th {\n",
       "        vertical-align: top;\n",
       "    }\n",
       "\n",
       "    .dataframe thead th {\n",
       "        text-align: right;\n",
       "    }\n",
       "</style>\n",
       "<table border=\"1\" class=\"dataframe\">\n",
       "  <thead>\n",
       "    <tr style=\"text-align: right;\">\n",
       "      <th></th>\n",
       "      <th>gender</th>\n",
       "      <th>age</th>\n",
       "      <th>hypertension</th>\n",
       "      <th>heart_disease</th>\n",
       "      <th>smoking_history</th>\n",
       "      <th>bmi</th>\n",
       "      <th>HbA1c_level</th>\n",
       "      <th>blood_glucose_level</th>\n",
       "      <th>diabetes</th>\n",
       "      <th>age_group</th>\n",
       "      <th>smoking_history_of_age_group</th>\n",
       "      <th>smoking_history_current</th>\n",
       "      <th>smoking_history_ever</th>\n",
       "      <th>smoking_history_former</th>\n",
       "      <th>smoking_history_never</th>\n",
       "      <th>smoking_history_not current</th>\n",
       "    </tr>\n",
       "  </thead>\n",
       "  <tbody>\n",
       "    <tr>\n",
       "      <th>95388</th>\n",
       "      <td>0</td>\n",
       "      <td>1.000000</td>\n",
       "      <td>0</td>\n",
       "      <td>0</td>\n",
       "      <td>never</td>\n",
       "      <td>0.202031</td>\n",
       "      <td>0.400000</td>\n",
       "      <td>0.209091</td>\n",
       "      <td>1</td>\n",
       "      <td>NaN</td>\n",
       "      <td>NaN</td>\n",
       "      <td>0</td>\n",
       "      <td>0</td>\n",
       "      <td>0</td>\n",
       "      <td>1</td>\n",
       "      <td>0</td>\n",
       "    </tr>\n",
       "    <tr>\n",
       "      <th>64699</th>\n",
       "      <td>1</td>\n",
       "      <td>0.737237</td>\n",
       "      <td>1</td>\n",
       "      <td>0</td>\n",
       "      <td>former</td>\n",
       "      <td>0.253735</td>\n",
       "      <td>0.963636</td>\n",
       "      <td>0.909091</td>\n",
       "      <td>1</td>\n",
       "      <td>[55.0, 60.0)</td>\n",
       "      <td>never</td>\n",
       "      <td>0</td>\n",
       "      <td>0</td>\n",
       "      <td>1</td>\n",
       "      <td>0</td>\n",
       "      <td>0</td>\n",
       "    </tr>\n",
       "    <tr>\n",
       "      <th>4527</th>\n",
       "      <td>0</td>\n",
       "      <td>0.486987</td>\n",
       "      <td>0</td>\n",
       "      <td>0</td>\n",
       "      <td>never</td>\n",
       "      <td>0.266106</td>\n",
       "      <td>0.472727</td>\n",
       "      <td>0.340909</td>\n",
       "      <td>1</td>\n",
       "      <td>[35.0, 40.0)</td>\n",
       "      <td>never</td>\n",
       "      <td>0</td>\n",
       "      <td>0</td>\n",
       "      <td>0</td>\n",
       "      <td>1</td>\n",
       "      <td>0</td>\n",
       "    </tr>\n",
       "    <tr>\n",
       "      <th>2596</th>\n",
       "      <td>0</td>\n",
       "      <td>0.874875</td>\n",
       "      <td>1</td>\n",
       "      <td>1</td>\n",
       "      <td>not current</td>\n",
       "      <td>0.248366</td>\n",
       "      <td>0.963636</td>\n",
       "      <td>0.909091</td>\n",
       "      <td>1</td>\n",
       "      <td>[70.0, 75.0)</td>\n",
       "      <td>never</td>\n",
       "      <td>0</td>\n",
       "      <td>0</td>\n",
       "      <td>0</td>\n",
       "      <td>0</td>\n",
       "      <td>1</td>\n",
       "    </tr>\n",
       "    <tr>\n",
       "      <th>48568</th>\n",
       "      <td>1</td>\n",
       "      <td>0.574575</td>\n",
       "      <td>1</td>\n",
       "      <td>0</td>\n",
       "      <td>never</td>\n",
       "      <td>0.340103</td>\n",
       "      <td>0.600000</td>\n",
       "      <td>0.209091</td>\n",
       "      <td>1</td>\n",
       "      <td>[45.0, 50.0)</td>\n",
       "      <td>never</td>\n",
       "      <td>0</td>\n",
       "      <td>0</td>\n",
       "      <td>0</td>\n",
       "      <td>1</td>\n",
       "      <td>0</td>\n",
       "    </tr>\n",
       "  </tbody>\n",
       "</table>\n",
       "</div>"
      ],
      "text/plain": [
       "       gender       age  hypertension  heart_disease smoking_history  \\\n",
       "95388       0  1.000000             0              0           never   \n",
       "64699       1  0.737237             1              0          former   \n",
       "4527        0  0.486987             0              0           never   \n",
       "2596        0  0.874875             1              1     not current   \n",
       "48568       1  0.574575             1              0           never   \n",
       "\n",
       "            bmi  HbA1c_level  blood_glucose_level diabetes     age_group  \\\n",
       "95388  0.202031     0.400000             0.209091        1           NaN   \n",
       "64699  0.253735     0.963636             0.909091        1  [55.0, 60.0)   \n",
       "4527   0.266106     0.472727             0.340909        1  [35.0, 40.0)   \n",
       "2596   0.248366     0.963636             0.909091        1  [70.0, 75.0)   \n",
       "48568  0.340103     0.600000             0.209091        1  [45.0, 50.0)   \n",
       "\n",
       "      smoking_history_of_age_group  smoking_history_current  \\\n",
       "95388                          NaN                        0   \n",
       "64699                        never                        0   \n",
       "4527                         never                        0   \n",
       "2596                         never                        0   \n",
       "48568                        never                        0   \n",
       "\n",
       "       smoking_history_ever  smoking_history_former  smoking_history_never  \\\n",
       "95388                     0                       0                      1   \n",
       "64699                     0                       1                      0   \n",
       "4527                      0                       0                      1   \n",
       "2596                      0                       0                      0   \n",
       "48568                     0                       0                      1   \n",
       "\n",
       "       smoking_history_not current  \n",
       "95388                            0  \n",
       "64699                            0  \n",
       "4527                             0  \n",
       "2596                             1  \n",
       "48568                            0  "
      ]
     },
     "execution_count": 17,
     "metadata": {},
     "output_type": "execute_result"
    }
   ],
   "source": [
    "diabetic = df[df.diabetes == 1] \n",
    "not_diabetic = df[df.diabetes == 0] \n",
    "n = min([len(diabetic), len(not_diabetic)]) \n",
    "diabetic_sample = diabetic.sample(n = n, random_state = 0) \n",
    "not_diabetic_sample = not_diabetic.sample(n = n, random_state = 0)\n",
    "df = pd.concat([diabetic_sample, not_diabetic_sample]) \n",
    "df.head()"
   ]
  },
  {
   "cell_type": "code",
   "execution_count": 18,
   "id": "2f069ca3-27ca-404b-8a43-468bfa3d39b3",
   "metadata": {},
   "outputs": [
    {
     "data": {
      "text/plain": [
       "17000"
      ]
     },
     "execution_count": 18,
     "metadata": {},
     "output_type": "execute_result"
    }
   ],
   "source": [
    "len(df)"
   ]
  },
  {
   "cell_type": "markdown",
   "id": "8dc2966b-60d9-4a32-a3cc-b85804fac3a5",
   "metadata": {},
   "source": [
    "A major downside of using stratified sampling to balance the dataset is that we are left with 17,000 entries as opposed to close to 100,000 before.\n",
    "However, 17,000 entries is still plenty for an ML model."
   ]
  },
  {
   "cell_type": "markdown",
   "id": "ffd65587-0bb4-4e5a-b0ea-9ac1ecff17c0",
   "metadata": {},
   "source": [
    "## Train-test split\n",
    "\n",
    "I'm going to split the dataset into training and test datasets.\n",
    "I will only include select features in the dataset."
   ]
  },
  {
   "cell_type": "code",
   "execution_count": 19,
   "id": "0efb1c60-d43b-497b-9f29-bfd64711386a",
   "metadata": {},
   "outputs": [
    {
     "data": {
      "text/html": [
       "<div>\n",
       "<style scoped>\n",
       "    .dataframe tbody tr th:only-of-type {\n",
       "        vertical-align: middle;\n",
       "    }\n",
       "\n",
       "    .dataframe tbody tr th {\n",
       "        vertical-align: top;\n",
       "    }\n",
       "\n",
       "    .dataframe thead th {\n",
       "        text-align: right;\n",
       "    }\n",
       "</style>\n",
       "<table border=\"1\" class=\"dataframe\">\n",
       "  <thead>\n",
       "    <tr style=\"text-align: right;\">\n",
       "      <th></th>\n",
       "      <th>gender</th>\n",
       "      <th>age</th>\n",
       "      <th>hypertension</th>\n",
       "      <th>heart_disease</th>\n",
       "      <th>smoking_history</th>\n",
       "      <th>bmi</th>\n",
       "      <th>HbA1c_level</th>\n",
       "      <th>blood_glucose_level</th>\n",
       "      <th>diabetes</th>\n",
       "      <th>age_group</th>\n",
       "      <th>smoking_history_of_age_group</th>\n",
       "      <th>smoking_history_current</th>\n",
       "      <th>smoking_history_ever</th>\n",
       "      <th>smoking_history_former</th>\n",
       "      <th>smoking_history_never</th>\n",
       "      <th>smoking_history_not current</th>\n",
       "    </tr>\n",
       "  </thead>\n",
       "  <tbody>\n",
       "    <tr>\n",
       "      <th>95388</th>\n",
       "      <td>0</td>\n",
       "      <td>1.000000</td>\n",
       "      <td>0</td>\n",
       "      <td>0</td>\n",
       "      <td>never</td>\n",
       "      <td>0.202031</td>\n",
       "      <td>0.400000</td>\n",
       "      <td>0.209091</td>\n",
       "      <td>1</td>\n",
       "      <td>NaN</td>\n",
       "      <td>NaN</td>\n",
       "      <td>0</td>\n",
       "      <td>0</td>\n",
       "      <td>0</td>\n",
       "      <td>1</td>\n",
       "      <td>0</td>\n",
       "    </tr>\n",
       "    <tr>\n",
       "      <th>64699</th>\n",
       "      <td>1</td>\n",
       "      <td>0.737237</td>\n",
       "      <td>1</td>\n",
       "      <td>0</td>\n",
       "      <td>former</td>\n",
       "      <td>0.253735</td>\n",
       "      <td>0.963636</td>\n",
       "      <td>0.909091</td>\n",
       "      <td>1</td>\n",
       "      <td>[55.0, 60.0)</td>\n",
       "      <td>never</td>\n",
       "      <td>0</td>\n",
       "      <td>0</td>\n",
       "      <td>1</td>\n",
       "      <td>0</td>\n",
       "      <td>0</td>\n",
       "    </tr>\n",
       "    <tr>\n",
       "      <th>4527</th>\n",
       "      <td>0</td>\n",
       "      <td>0.486987</td>\n",
       "      <td>0</td>\n",
       "      <td>0</td>\n",
       "      <td>never</td>\n",
       "      <td>0.266106</td>\n",
       "      <td>0.472727</td>\n",
       "      <td>0.340909</td>\n",
       "      <td>1</td>\n",
       "      <td>[35.0, 40.0)</td>\n",
       "      <td>never</td>\n",
       "      <td>0</td>\n",
       "      <td>0</td>\n",
       "      <td>0</td>\n",
       "      <td>1</td>\n",
       "      <td>0</td>\n",
       "    </tr>\n",
       "    <tr>\n",
       "      <th>2596</th>\n",
       "      <td>0</td>\n",
       "      <td>0.874875</td>\n",
       "      <td>1</td>\n",
       "      <td>1</td>\n",
       "      <td>not current</td>\n",
       "      <td>0.248366</td>\n",
       "      <td>0.963636</td>\n",
       "      <td>0.909091</td>\n",
       "      <td>1</td>\n",
       "      <td>[70.0, 75.0)</td>\n",
       "      <td>never</td>\n",
       "      <td>0</td>\n",
       "      <td>0</td>\n",
       "      <td>0</td>\n",
       "      <td>0</td>\n",
       "      <td>1</td>\n",
       "    </tr>\n",
       "    <tr>\n",
       "      <th>48568</th>\n",
       "      <td>1</td>\n",
       "      <td>0.574575</td>\n",
       "      <td>1</td>\n",
       "      <td>0</td>\n",
       "      <td>never</td>\n",
       "      <td>0.340103</td>\n",
       "      <td>0.600000</td>\n",
       "      <td>0.209091</td>\n",
       "      <td>1</td>\n",
       "      <td>[45.0, 50.0)</td>\n",
       "      <td>never</td>\n",
       "      <td>0</td>\n",
       "      <td>0</td>\n",
       "      <td>0</td>\n",
       "      <td>1</td>\n",
       "      <td>0</td>\n",
       "    </tr>\n",
       "  </tbody>\n",
       "</table>\n",
       "</div>"
      ],
      "text/plain": [
       "       gender       age  hypertension  heart_disease smoking_history  \\\n",
       "95388       0  1.000000             0              0           never   \n",
       "64699       1  0.737237             1              0          former   \n",
       "4527        0  0.486987             0              0           never   \n",
       "2596        0  0.874875             1              1     not current   \n",
       "48568       1  0.574575             1              0           never   \n",
       "\n",
       "            bmi  HbA1c_level  blood_glucose_level diabetes     age_group  \\\n",
       "95388  0.202031     0.400000             0.209091        1           NaN   \n",
       "64699  0.253735     0.963636             0.909091        1  [55.0, 60.0)   \n",
       "4527   0.266106     0.472727             0.340909        1  [35.0, 40.0)   \n",
       "2596   0.248366     0.963636             0.909091        1  [70.0, 75.0)   \n",
       "48568  0.340103     0.600000             0.209091        1  [45.0, 50.0)   \n",
       "\n",
       "      smoking_history_of_age_group  smoking_history_current  \\\n",
       "95388                          NaN                        0   \n",
       "64699                        never                        0   \n",
       "4527                         never                        0   \n",
       "2596                         never                        0   \n",
       "48568                        never                        0   \n",
       "\n",
       "       smoking_history_ever  smoking_history_former  smoking_history_never  \\\n",
       "95388                     0                       0                      1   \n",
       "64699                     0                       1                      0   \n",
       "4527                      0                       0                      1   \n",
       "2596                      0                       0                      0   \n",
       "48568                     0                       0                      1   \n",
       "\n",
       "       smoking_history_not current  \n",
       "95388                            0  \n",
       "64699                            0  \n",
       "4527                             0  \n",
       "2596                             1  \n",
       "48568                            0  "
      ]
     },
     "execution_count": 19,
     "metadata": {},
     "output_type": "execute_result"
    }
   ],
   "source": [
    "df.head()"
   ]
  },
  {
   "cell_type": "code",
   "execution_count": 20,
   "id": "75b6a482-2e1b-403c-8228-b0e087824e60",
   "metadata": {},
   "outputs": [],
   "source": [
    "feature_list = ['gender', 'age', 'hypertension', 'heart_disease', 'bmi', 'HbA1c_level', 'blood_glucose_level', 'smoking_history_current', 'smoking_history_ever', 'smoking_history_former', 'smoking_history_never', 'smoking_history_not current']\n",
    "X = df[feature_list]\n",
    "y = df[['diabetes']]\n",
    "X_train, X_test, y_train, y_test = train_test_split(\n",
    "    X, y, \n",
    "    test_size=0.2,    # Proportion of the dataset to include in the test split\n",
    ")"
   ]
  },
  {
   "cell_type": "markdown",
   "id": "caf6c088-6635-4fab-b5b5-d54aff6bc6e0",
   "metadata": {},
   "source": [
    "## Logistic Regression"
   ]
  },
  {
   "cell_type": "markdown",
   "id": "4f904304-ad89-4865-9d04-40f2f7b03ad4",
   "metadata": {},
   "source": [
    "I'm going to create a logistic regression model."
   ]
  },
  {
   "cell_type": "code",
   "execution_count": 21,
   "id": "f5210054-1df5-440e-8ec2-d6ac3a238f20",
   "metadata": {},
   "outputs": [
    {
     "data": {
      "text/html": [
       "<style>#sk-container-id-1 {\n",
       "  /* Definition of color scheme common for light and dark mode */\n",
       "  --sklearn-color-text: black;\n",
       "  --sklearn-color-line: gray;\n",
       "  /* Definition of color scheme for unfitted estimators */\n",
       "  --sklearn-color-unfitted-level-0: #fff5e6;\n",
       "  --sklearn-color-unfitted-level-1: #f6e4d2;\n",
       "  --sklearn-color-unfitted-level-2: #ffe0b3;\n",
       "  --sklearn-color-unfitted-level-3: chocolate;\n",
       "  /* Definition of color scheme for fitted estimators */\n",
       "  --sklearn-color-fitted-level-0: #f0f8ff;\n",
       "  --sklearn-color-fitted-level-1: #d4ebff;\n",
       "  --sklearn-color-fitted-level-2: #b3dbfd;\n",
       "  --sklearn-color-fitted-level-3: cornflowerblue;\n",
       "\n",
       "  /* Specific color for light theme */\n",
       "  --sklearn-color-text-on-default-background: var(--sg-text-color, var(--theme-code-foreground, var(--jp-content-font-color1, black)));\n",
       "  --sklearn-color-background: var(--sg-background-color, var(--theme-background, var(--jp-layout-color0, white)));\n",
       "  --sklearn-color-border-box: var(--sg-text-color, var(--theme-code-foreground, var(--jp-content-font-color1, black)));\n",
       "  --sklearn-color-icon: #696969;\n",
       "\n",
       "  @media (prefers-color-scheme: dark) {\n",
       "    /* Redefinition of color scheme for dark theme */\n",
       "    --sklearn-color-text-on-default-background: var(--sg-text-color, var(--theme-code-foreground, var(--jp-content-font-color1, white)));\n",
       "    --sklearn-color-background: var(--sg-background-color, var(--theme-background, var(--jp-layout-color0, #111)));\n",
       "    --sklearn-color-border-box: var(--sg-text-color, var(--theme-code-foreground, var(--jp-content-font-color1, white)));\n",
       "    --sklearn-color-icon: #878787;\n",
       "  }\n",
       "}\n",
       "\n",
       "#sk-container-id-1 {\n",
       "  color: var(--sklearn-color-text);\n",
       "}\n",
       "\n",
       "#sk-container-id-1 pre {\n",
       "  padding: 0;\n",
       "}\n",
       "\n",
       "#sk-container-id-1 input.sk-hidden--visually {\n",
       "  border: 0;\n",
       "  clip: rect(1px 1px 1px 1px);\n",
       "  clip: rect(1px, 1px, 1px, 1px);\n",
       "  height: 1px;\n",
       "  margin: -1px;\n",
       "  overflow: hidden;\n",
       "  padding: 0;\n",
       "  position: absolute;\n",
       "  width: 1px;\n",
       "}\n",
       "\n",
       "#sk-container-id-1 div.sk-dashed-wrapped {\n",
       "  border: 1px dashed var(--sklearn-color-line);\n",
       "  margin: 0 0.4em 0.5em 0.4em;\n",
       "  box-sizing: border-box;\n",
       "  padding-bottom: 0.4em;\n",
       "  background-color: var(--sklearn-color-background);\n",
       "}\n",
       "\n",
       "#sk-container-id-1 div.sk-container {\n",
       "  /* jupyter's `normalize.less` sets `[hidden] { display: none; }`\n",
       "     but bootstrap.min.css set `[hidden] { display: none !important; }`\n",
       "     so we also need the `!important` here to be able to override the\n",
       "     default hidden behavior on the sphinx rendered scikit-learn.org.\n",
       "     See: https://github.com/scikit-learn/scikit-learn/issues/21755 */\n",
       "  display: inline-block !important;\n",
       "  position: relative;\n",
       "}\n",
       "\n",
       "#sk-container-id-1 div.sk-text-repr-fallback {\n",
       "  display: none;\n",
       "}\n",
       "\n",
       "div.sk-parallel-item,\n",
       "div.sk-serial,\n",
       "div.sk-item {\n",
       "  /* draw centered vertical line to link estimators */\n",
       "  background-image: linear-gradient(var(--sklearn-color-text-on-default-background), var(--sklearn-color-text-on-default-background));\n",
       "  background-size: 2px 100%;\n",
       "  background-repeat: no-repeat;\n",
       "  background-position: center center;\n",
       "}\n",
       "\n",
       "/* Parallel-specific style estimator block */\n",
       "\n",
       "#sk-container-id-1 div.sk-parallel-item::after {\n",
       "  content: \"\";\n",
       "  width: 100%;\n",
       "  border-bottom: 2px solid var(--sklearn-color-text-on-default-background);\n",
       "  flex-grow: 1;\n",
       "}\n",
       "\n",
       "#sk-container-id-1 div.sk-parallel {\n",
       "  display: flex;\n",
       "  align-items: stretch;\n",
       "  justify-content: center;\n",
       "  background-color: var(--sklearn-color-background);\n",
       "  position: relative;\n",
       "}\n",
       "\n",
       "#sk-container-id-1 div.sk-parallel-item {\n",
       "  display: flex;\n",
       "  flex-direction: column;\n",
       "}\n",
       "\n",
       "#sk-container-id-1 div.sk-parallel-item:first-child::after {\n",
       "  align-self: flex-end;\n",
       "  width: 50%;\n",
       "}\n",
       "\n",
       "#sk-container-id-1 div.sk-parallel-item:last-child::after {\n",
       "  align-self: flex-start;\n",
       "  width: 50%;\n",
       "}\n",
       "\n",
       "#sk-container-id-1 div.sk-parallel-item:only-child::after {\n",
       "  width: 0;\n",
       "}\n",
       "\n",
       "/* Serial-specific style estimator block */\n",
       "\n",
       "#sk-container-id-1 div.sk-serial {\n",
       "  display: flex;\n",
       "  flex-direction: column;\n",
       "  align-items: center;\n",
       "  background-color: var(--sklearn-color-background);\n",
       "  padding-right: 1em;\n",
       "  padding-left: 1em;\n",
       "}\n",
       "\n",
       "\n",
       "/* Toggleable style: style used for estimator/Pipeline/ColumnTransformer box that is\n",
       "clickable and can be expanded/collapsed.\n",
       "- Pipeline and ColumnTransformer use this feature and define the default style\n",
       "- Estimators will overwrite some part of the style using the `sk-estimator` class\n",
       "*/\n",
       "\n",
       "/* Pipeline and ColumnTransformer style (default) */\n",
       "\n",
       "#sk-container-id-1 div.sk-toggleable {\n",
       "  /* Default theme specific background. It is overwritten whether we have a\n",
       "  specific estimator or a Pipeline/ColumnTransformer */\n",
       "  background-color: var(--sklearn-color-background);\n",
       "}\n",
       "\n",
       "/* Toggleable label */\n",
       "#sk-container-id-1 label.sk-toggleable__label {\n",
       "  cursor: pointer;\n",
       "  display: block;\n",
       "  width: 100%;\n",
       "  margin-bottom: 0;\n",
       "  padding: 0.5em;\n",
       "  box-sizing: border-box;\n",
       "  text-align: center;\n",
       "}\n",
       "\n",
       "#sk-container-id-1 label.sk-toggleable__label-arrow:before {\n",
       "  /* Arrow on the left of the label */\n",
       "  content: \"▸\";\n",
       "  float: left;\n",
       "  margin-right: 0.25em;\n",
       "  color: var(--sklearn-color-icon);\n",
       "}\n",
       "\n",
       "#sk-container-id-1 label.sk-toggleable__label-arrow:hover:before {\n",
       "  color: var(--sklearn-color-text);\n",
       "}\n",
       "\n",
       "/* Toggleable content - dropdown */\n",
       "\n",
       "#sk-container-id-1 div.sk-toggleable__content {\n",
       "  max-height: 0;\n",
       "  max-width: 0;\n",
       "  overflow: hidden;\n",
       "  text-align: left;\n",
       "  /* unfitted */\n",
       "  background-color: var(--sklearn-color-unfitted-level-0);\n",
       "}\n",
       "\n",
       "#sk-container-id-1 div.sk-toggleable__content.fitted {\n",
       "  /* fitted */\n",
       "  background-color: var(--sklearn-color-fitted-level-0);\n",
       "}\n",
       "\n",
       "#sk-container-id-1 div.sk-toggleable__content pre {\n",
       "  margin: 0.2em;\n",
       "  border-radius: 0.25em;\n",
       "  color: var(--sklearn-color-text);\n",
       "  /* unfitted */\n",
       "  background-color: var(--sklearn-color-unfitted-level-0);\n",
       "}\n",
       "\n",
       "#sk-container-id-1 div.sk-toggleable__content.fitted pre {\n",
       "  /* unfitted */\n",
       "  background-color: var(--sklearn-color-fitted-level-0);\n",
       "}\n",
       "\n",
       "#sk-container-id-1 input.sk-toggleable__control:checked~div.sk-toggleable__content {\n",
       "  /* Expand drop-down */\n",
       "  max-height: 200px;\n",
       "  max-width: 100%;\n",
       "  overflow: auto;\n",
       "}\n",
       "\n",
       "#sk-container-id-1 input.sk-toggleable__control:checked~label.sk-toggleable__label-arrow:before {\n",
       "  content: \"▾\";\n",
       "}\n",
       "\n",
       "/* Pipeline/ColumnTransformer-specific style */\n",
       "\n",
       "#sk-container-id-1 div.sk-label input.sk-toggleable__control:checked~label.sk-toggleable__label {\n",
       "  color: var(--sklearn-color-text);\n",
       "  background-color: var(--sklearn-color-unfitted-level-2);\n",
       "}\n",
       "\n",
       "#sk-container-id-1 div.sk-label.fitted input.sk-toggleable__control:checked~label.sk-toggleable__label {\n",
       "  background-color: var(--sklearn-color-fitted-level-2);\n",
       "}\n",
       "\n",
       "/* Estimator-specific style */\n",
       "\n",
       "/* Colorize estimator box */\n",
       "#sk-container-id-1 div.sk-estimator input.sk-toggleable__control:checked~label.sk-toggleable__label {\n",
       "  /* unfitted */\n",
       "  background-color: var(--sklearn-color-unfitted-level-2);\n",
       "}\n",
       "\n",
       "#sk-container-id-1 div.sk-estimator.fitted input.sk-toggleable__control:checked~label.sk-toggleable__label {\n",
       "  /* fitted */\n",
       "  background-color: var(--sklearn-color-fitted-level-2);\n",
       "}\n",
       "\n",
       "#sk-container-id-1 div.sk-label label.sk-toggleable__label,\n",
       "#sk-container-id-1 div.sk-label label {\n",
       "  /* The background is the default theme color */\n",
       "  color: var(--sklearn-color-text-on-default-background);\n",
       "}\n",
       "\n",
       "/* On hover, darken the color of the background */\n",
       "#sk-container-id-1 div.sk-label:hover label.sk-toggleable__label {\n",
       "  color: var(--sklearn-color-text);\n",
       "  background-color: var(--sklearn-color-unfitted-level-2);\n",
       "}\n",
       "\n",
       "/* Label box, darken color on hover, fitted */\n",
       "#sk-container-id-1 div.sk-label.fitted:hover label.sk-toggleable__label.fitted {\n",
       "  color: var(--sklearn-color-text);\n",
       "  background-color: var(--sklearn-color-fitted-level-2);\n",
       "}\n",
       "\n",
       "/* Estimator label */\n",
       "\n",
       "#sk-container-id-1 div.sk-label label {\n",
       "  font-family: monospace;\n",
       "  font-weight: bold;\n",
       "  display: inline-block;\n",
       "  line-height: 1.2em;\n",
       "}\n",
       "\n",
       "#sk-container-id-1 div.sk-label-container {\n",
       "  text-align: center;\n",
       "}\n",
       "\n",
       "/* Estimator-specific */\n",
       "#sk-container-id-1 div.sk-estimator {\n",
       "  font-family: monospace;\n",
       "  border: 1px dotted var(--sklearn-color-border-box);\n",
       "  border-radius: 0.25em;\n",
       "  box-sizing: border-box;\n",
       "  margin-bottom: 0.5em;\n",
       "  /* unfitted */\n",
       "  background-color: var(--sklearn-color-unfitted-level-0);\n",
       "}\n",
       "\n",
       "#sk-container-id-1 div.sk-estimator.fitted {\n",
       "  /* fitted */\n",
       "  background-color: var(--sklearn-color-fitted-level-0);\n",
       "}\n",
       "\n",
       "/* on hover */\n",
       "#sk-container-id-1 div.sk-estimator:hover {\n",
       "  /* unfitted */\n",
       "  background-color: var(--sklearn-color-unfitted-level-2);\n",
       "}\n",
       "\n",
       "#sk-container-id-1 div.sk-estimator.fitted:hover {\n",
       "  /* fitted */\n",
       "  background-color: var(--sklearn-color-fitted-level-2);\n",
       "}\n",
       "\n",
       "/* Specification for estimator info (e.g. \"i\" and \"?\") */\n",
       "\n",
       "/* Common style for \"i\" and \"?\" */\n",
       "\n",
       ".sk-estimator-doc-link,\n",
       "a:link.sk-estimator-doc-link,\n",
       "a:visited.sk-estimator-doc-link {\n",
       "  float: right;\n",
       "  font-size: smaller;\n",
       "  line-height: 1em;\n",
       "  font-family: monospace;\n",
       "  background-color: var(--sklearn-color-background);\n",
       "  border-radius: 1em;\n",
       "  height: 1em;\n",
       "  width: 1em;\n",
       "  text-decoration: none !important;\n",
       "  margin-left: 1ex;\n",
       "  /* unfitted */\n",
       "  border: var(--sklearn-color-unfitted-level-1) 1pt solid;\n",
       "  color: var(--sklearn-color-unfitted-level-1);\n",
       "}\n",
       "\n",
       ".sk-estimator-doc-link.fitted,\n",
       "a:link.sk-estimator-doc-link.fitted,\n",
       "a:visited.sk-estimator-doc-link.fitted {\n",
       "  /* fitted */\n",
       "  border: var(--sklearn-color-fitted-level-1) 1pt solid;\n",
       "  color: var(--sklearn-color-fitted-level-1);\n",
       "}\n",
       "\n",
       "/* On hover */\n",
       "div.sk-estimator:hover .sk-estimator-doc-link:hover,\n",
       ".sk-estimator-doc-link:hover,\n",
       "div.sk-label-container:hover .sk-estimator-doc-link:hover,\n",
       ".sk-estimator-doc-link:hover {\n",
       "  /* unfitted */\n",
       "  background-color: var(--sklearn-color-unfitted-level-3);\n",
       "  color: var(--sklearn-color-background);\n",
       "  text-decoration: none;\n",
       "}\n",
       "\n",
       "div.sk-estimator.fitted:hover .sk-estimator-doc-link.fitted:hover,\n",
       ".sk-estimator-doc-link.fitted:hover,\n",
       "div.sk-label-container:hover .sk-estimator-doc-link.fitted:hover,\n",
       ".sk-estimator-doc-link.fitted:hover {\n",
       "  /* fitted */\n",
       "  background-color: var(--sklearn-color-fitted-level-3);\n",
       "  color: var(--sklearn-color-background);\n",
       "  text-decoration: none;\n",
       "}\n",
       "\n",
       "/* Span, style for the box shown on hovering the info icon */\n",
       ".sk-estimator-doc-link span {\n",
       "  display: none;\n",
       "  z-index: 9999;\n",
       "  position: relative;\n",
       "  font-weight: normal;\n",
       "  right: .2ex;\n",
       "  padding: .5ex;\n",
       "  margin: .5ex;\n",
       "  width: min-content;\n",
       "  min-width: 20ex;\n",
       "  max-width: 50ex;\n",
       "  color: var(--sklearn-color-text);\n",
       "  box-shadow: 2pt 2pt 4pt #999;\n",
       "  /* unfitted */\n",
       "  background: var(--sklearn-color-unfitted-level-0);\n",
       "  border: .5pt solid var(--sklearn-color-unfitted-level-3);\n",
       "}\n",
       "\n",
       ".sk-estimator-doc-link.fitted span {\n",
       "  /* fitted */\n",
       "  background: var(--sklearn-color-fitted-level-0);\n",
       "  border: var(--sklearn-color-fitted-level-3);\n",
       "}\n",
       "\n",
       ".sk-estimator-doc-link:hover span {\n",
       "  display: block;\n",
       "}\n",
       "\n",
       "/* \"?\"-specific style due to the `<a>` HTML tag */\n",
       "\n",
       "#sk-container-id-1 a.estimator_doc_link {\n",
       "  float: right;\n",
       "  font-size: 1rem;\n",
       "  line-height: 1em;\n",
       "  font-family: monospace;\n",
       "  background-color: var(--sklearn-color-background);\n",
       "  border-radius: 1rem;\n",
       "  height: 1rem;\n",
       "  width: 1rem;\n",
       "  text-decoration: none;\n",
       "  /* unfitted */\n",
       "  color: var(--sklearn-color-unfitted-level-1);\n",
       "  border: var(--sklearn-color-unfitted-level-1) 1pt solid;\n",
       "}\n",
       "\n",
       "#sk-container-id-1 a.estimator_doc_link.fitted {\n",
       "  /* fitted */\n",
       "  border: var(--sklearn-color-fitted-level-1) 1pt solid;\n",
       "  color: var(--sklearn-color-fitted-level-1);\n",
       "}\n",
       "\n",
       "/* On hover */\n",
       "#sk-container-id-1 a.estimator_doc_link:hover {\n",
       "  /* unfitted */\n",
       "  background-color: var(--sklearn-color-unfitted-level-3);\n",
       "  color: var(--sklearn-color-background);\n",
       "  text-decoration: none;\n",
       "}\n",
       "\n",
       "#sk-container-id-1 a.estimator_doc_link.fitted:hover {\n",
       "  /* fitted */\n",
       "  background-color: var(--sklearn-color-fitted-level-3);\n",
       "}\n",
       "</style><div id=\"sk-container-id-1\" class=\"sk-top-container\"><div class=\"sk-text-repr-fallback\"><pre>LogisticRegression()</pre><b>In a Jupyter environment, please rerun this cell to show the HTML representation or trust the notebook. <br />On GitHub, the HTML representation is unable to render, please try loading this page with nbviewer.org.</b></div><div class=\"sk-container\" hidden><div class=\"sk-item\"><div class=\"sk-estimator fitted sk-toggleable\"><input class=\"sk-toggleable__control sk-hidden--visually\" id=\"sk-estimator-id-1\" type=\"checkbox\" checked><label for=\"sk-estimator-id-1\" class=\"sk-toggleable__label fitted sk-toggleable__label-arrow fitted\">&nbsp;&nbsp;LogisticRegression<a class=\"sk-estimator-doc-link fitted\" rel=\"noreferrer\" target=\"_blank\" href=\"https://scikit-learn.org/1.5/modules/generated/sklearn.linear_model.LogisticRegression.html\">?<span>Documentation for LogisticRegression</span></a><span class=\"sk-estimator-doc-link fitted\">i<span>Fitted</span></span></label><div class=\"sk-toggleable__content fitted\"><pre>LogisticRegression()</pre></div> </div></div></div></div>"
      ],
      "text/plain": [
       "LogisticRegression()"
      ]
     },
     "execution_count": 21,
     "metadata": {},
     "output_type": "execute_result"
    }
   ],
   "source": [
    "from sklearn.linear_model import LogisticRegression\n",
    "logreg = LogisticRegression()\n",
    "logreg.fit(X_train, y_train.values.ravel())"
   ]
  },
  {
   "cell_type": "code",
   "execution_count": 22,
   "id": "e710969d-df0f-4b13-8ff9-17140c6a59a4",
   "metadata": {},
   "outputs": [
    {
     "name": "stdout",
     "output_type": "stream",
     "text": [
      "Accuracy score is: 0.8826470588235295\n"
     ]
    }
   ],
   "source": [
    "y_pred_class = logreg.predict(X_test)\n",
    "\n",
    "from sklearn import metrics\n",
    "print('Accuracy score is:',metrics.accuracy_score(y_test, y_pred_class))"
   ]
  },
  {
   "cell_type": "code",
   "execution_count": 23,
   "id": "81ec235f-da42-4afb-b2d8-0019dec8e2cb",
   "metadata": {},
   "outputs": [
    {
     "name": "stdout",
     "output_type": "stream",
     "text": [
      "       gender       age  hypertension  heart_disease       bmi  HbA1c_level  \\\n",
      "4972        1  0.912412             0              0  0.178688     0.636364   \n",
      "44062       0  1.000000             1              0  0.170518     0.545455   \n",
      "721         0  0.737237             0              0  0.167134     0.563636   \n",
      "3818        1  0.762262             1              0  0.325280     1.000000   \n",
      "38898       1  0.799800             0              0  0.235994     0.490909   \n",
      "10550       0  0.624625             0              0  0.130719     0.400000   \n",
      "58094       0  0.824825             0              0  0.207166     0.563636   \n",
      "36813       0  0.311812             0              0  0.144491     0.563636   \n",
      "14530       0  1.000000             0              0  0.202031     0.418182   \n",
      "13755       1  0.787287             0              0  0.202031     0.454545   \n",
      "\n",
      "       blood_glucose_level  smoking_history_current  smoking_history_ever  \\\n",
      "4972              0.359091                        0                     0   \n",
      "44062             0.818182                        0                     0   \n",
      "721               0.295455                        0                     1   \n",
      "3818              0.545455                        0                     0   \n",
      "38898             0.354545                        1                     0   \n",
      "10550             0.045455                        0                     0   \n",
      "58094             0.022727                        0                     1   \n",
      "36813             0.045455                        0                     0   \n",
      "14530             0.000000                        0                     0   \n",
      "13755             0.227273                        0                     0   \n",
      "\n",
      "       smoking_history_former  smoking_history_never  \\\n",
      "4972                        0                      1   \n",
      "44062                       0                      1   \n",
      "721                         0                      0   \n",
      "3818                        1                      0   \n",
      "38898                       0                      0   \n",
      "10550                       0                      1   \n",
      "58094                       0                      0   \n",
      "36813                       0                      1   \n",
      "14530                       0                      0   \n",
      "13755                       0                      1   \n",
      "\n",
      "       smoking_history_not current  \n",
      "4972                             0  \n",
      "44062                            0  \n",
      "721                              0  \n",
      "3818                             0  \n",
      "38898                            0  \n",
      "10550                            0  \n",
      "58094                            0  \n",
      "36813                            0  \n",
      "14530                            1  \n",
      "13755                            0  \n",
      "AUC score: 0.9600456763209799\n"
     ]
    }
   ],
   "source": [
    "from sklearn import metrics\n",
    "# Calculate the class probability\n",
    "y_pred_prob = logreg.predict_proba(X_test)[:, 1]\n",
    "print(X_test[0:10])\n",
    "\n",
    "auc_score = metrics.roc_auc_score(y_test.values.ravel(), y_pred_prob)\n",
    "print(f\"AUC score: {auc_score}\")"
   ]
  },
  {
   "cell_type": "markdown",
   "id": "c3a29d44-6d5a-4dea-82b8-44effdf7011f",
   "metadata": {},
   "source": [
    "The AUC score is very close to 1. This means that the true positive rate is high and the false positive rate is low. Yay.\n",
    "\n",
    "To visualise this, I will plot the ROC curve."
   ]
  },
  {
   "cell_type": "code",
   "execution_count": 24,
   "id": "b166b405-cc55-4b24-8f46-8fef5955af36",
   "metadata": {},
   "outputs": [
    {
     "data": {
      "text/plain": [
       "Text(0, 0.5, 'True Positive Rate')"
      ]
     },
     "execution_count": 24,
     "metadata": {},
     "output_type": "execute_result"
    },
    {
     "data": {
      "image/png": "[encoded data removed]",
      "text/plain": [
       "<Figure size 640x480 with 1 Axes>"
      ]
     },
     "metadata": {},
     "output_type": "display_data"
    }
   ],
   "source": [
    "fpr_logreg, tpr_logreg, _ = metrics.roc_curve(y_test, y_pred_prob)\n",
    "fig = plt.plot(fpr_logreg, tpr_logreg,label='ROC curve (area = %0.2f)' % auc_score )\n",
    "plt.title('ROC curve for diabetes prediction')\n",
    "plt.xlabel('False Positive Rate')\n",
    "plt.ylabel('True Positive Rate')"
   ]
  },
  {
   "cell_type": "code",
   "execution_count": null,
   "id": "edf9cfc5-3a41-4858-8b4e-5d9d694630ee",
   "metadata": {},
   "outputs": [],
   "source": []
  },
  {
   "cell_type": "markdown",
   "id": "c893fe2d-d14e-4d94-8ed7-86cb9e483d24",
   "metadata": {},
   "source": [
    "## Decision Tree"
   ]
  },
  {
   "cell_type": "code",
   "execution_count": 25,
   "id": "4dd86d06-bc0b-4e91-9215-60bbb90c0fe4",
   "metadata": {},
   "outputs": [
    {
     "name": "stdout",
     "output_type": "stream",
     "text": [
      "Accuracy score is: 0.8732352941176471\n"
     ]
    }
   ],
   "source": [
    "from sklearn.tree import DecisionTreeClassifier\n",
    "from sklearn import tree\n",
    "\n",
    "dtree = DecisionTreeClassifier()\n",
    "dtree = dtree.fit(X_train, y_train)\n",
    "y_pred_dtree = dtree.predict(X_test)\n",
    "print('Accuracy score is:', metrics.accuracy_score(y_test, y_pred_dtree))"
   ]
  },
  {
   "cell_type": "markdown",
   "id": "16035e11-a85d-4b2b-ac51-7f387a4ec948",
   "metadata": {},
   "source": [
    "With decision trees, the output of the model is a class without any probability. Is there another way to show the certainty of the resutls?"
   ]
  },
  {
   "cell_type": "code",
   "execution_count": 32,
   "id": "729e63e9-4936-4c80-a725-c1fa8b3281ab",
   "metadata": {},
   "outputs": [
    {
     "name": "stdout",
     "output_type": "stream",
     "text": [
      "AUC score: 0.8734352399737015\n"
     ]
    }
   ],
   "source": [
    "y_pred_prob_dtree = dtree.predict_proba(X_test)[:,1]\n",
    "auc_score_dtree = metrics.roc_auc_score(y_test.values.ravel(), y_pred_prob_dtree)\n",
    "print(f\"AUC score: {auc_score_dtree}\")"
   ]
  },
  {
   "cell_type": "code",
   "execution_count": 34,
   "id": "1296f3eb-7665-478f-a0e7-3c2a35b86db3",
   "metadata": {},
   "outputs": [
    {
     "data": {
      "text/plain": [
       "<matplotlib.legend.Legend at 0x1498ba210>"
      ]
     },
     "execution_count": 34,
     "metadata": {},
     "output_type": "execute_result"
    },
    {
     "data": {
      "image/png": "[encoded data removed]",
      "text/plain": [
       "<Figure size 640x480 with 1 Axes>"
      ]
     },
     "metadata": {},
     "output_type": "display_data"
    }
   ],
   "source": [
    "fpr_dtree, tpr_dtree, _ = metrics.roc_curve(y_test, y_pred_prob_dtree)\n",
    "fig = plt.plot(fpr_dtree, tpr_dtree,label='ROC curve of decision tree model (area = %0.2f)' % auc_score_dtree )\n",
    "plt.plot(fpr_logreg, tpr_logreg,label='ROC curve of LogReg model (area = %0.2f)' % auc_score )\n",
    "plt.title('ROC curves for diabetes prediction using different models')\n",
    "plt.xlabel('False Positive Rate')\n",
    "plt.ylabel('True Positive Rate')\n",
    "plt.legend(loc=\"lower right\")"
   ]
  },
  {
   "cell_type": "markdown",
   "id": "9a422449-5245-47cf-9c1a-73238a7f1e49",
   "metadata": {},
   "source": [
    "The graph above compares the ROCs for the decision tree model and the logistic regression model. \n",
    "\n",
    "It shows that the logistic regression model has a higher AUC (area under curve) score. We can see that overall, the logistic regression model has a higher True Positive Rate and a lower False Positive Rate. \n",
    "\n",
    "Though the accuracies of the models are similar, we can conclude that the logistic regression model would be more effective at predicting whether or not a patient has diabetes."
   ]
  }
 ],
 "metadata": {
  "kernelspec": {
   "display_name": "Python 3 (ipykernel)",
   "language": "python",
   "name": "python3"
  },
  "language_info": {
   "codemirror_mode": {
    "name": "ipython",
    "version": 3
   },
   "file_extension": ".py",
   "mimetype": "text/x-python",
   "name": "python",
   "nbconvert_exporter": "python",
   "pygments_lexer": "ipython3",
   "version": "3.12.4"
  }
 },
 "nbformat": 4,
 "nbformat_minor": 5
}
